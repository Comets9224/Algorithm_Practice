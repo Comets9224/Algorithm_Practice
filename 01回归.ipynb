{
 "cells": [
  {
   "cell_type": "code",
   "id": "initial_id",
   "metadata": {
    "collapsed": true,
    "ExecuteTime": {
     "end_time": "2024-08-05T08:56:20.469834Z",
     "start_time": "2024-08-05T08:56:20.463876Z"
    }
   },
   "source": [
    "import numpy as np\n",
    "import matplotlib.pyplot as plt\n",
    "import time\n",
    "# 读入训练数据\n",
    "train = np.loadtxt('01Gradient_data.csv', delimiter=',', skiprows=1)\n",
    "x = train[:, 0]  #轴0   不是np对应的轴0是横轴之类的  轴0就是轴0 \n",
    "y = train[:, 1]\n",
    "x\n"
   ],
   "outputs": [
    {
     "data": {
      "text/plain": [
       "array([235., 216., 148.,  35.,  85., 204.,  40.,  49.,  25., 173., 191.,\n",
       "       134.,  99., 117., 112., 162., 272., 159., 159.,  59., 198.])"
      ]
     },
     "execution_count": 137,
     "metadata": {},
     "output_type": "execute_result"
    }
   ],
   "execution_count": 137
  },
  {
   "metadata": {
    "ExecuteTime": {
     "end_time": "2024-08-05T08:56:20.534779Z",
     "start_time": "2024-08-05T08:56:20.529994Z"
    }
   },
   "cell_type": "code",
   "source": "y",
   "id": "e3f0bc887012124e",
   "outputs": [
    {
     "data": {
      "text/plain": [
       "array([567., 553., 417., 310., 308., 517., 325., 325., 332., 498., 498.,\n",
       "       392., 334., 385., 387., 425., 659., 400., 427., 319., 522.])"
      ]
     },
     "execution_count": 138,
     "metadata": {},
     "output_type": "execute_result"
    }
   ],
   "execution_count": 138
  },
  {
   "metadata": {
    "ExecuteTime": {
     "end_time": "2024-08-05T08:56:20.538908Z",
     "start_time": "2024-08-05T08:56:20.535783Z"
    }
   },
   "cell_type": "code",
   "source": [
    "mu=x.mean()\n",
    "sigma=x.std()\n"
   ],
   "id": "e51da5321f4d478b",
   "outputs": [],
   "execution_count": 139
  },
  {
   "metadata": {
    "ExecuteTime": {
     "end_time": "2024-08-05T08:56:20.651527Z",
     "start_time": "2024-08-05T08:56:20.560580Z"
    }
   },
   "cell_type": "code",
   "source": [
    "def standardize(x):\n",
    "    return (x - mu) / sigma\n",
    "\n",
    "\n",
    "z = standardize(x)\n",
    "\n",
    "# 初始化参数\n",
    "theta0 = np.random.rand()\n",
    "theta1 = np.random.rand()\n",
    "\n",
    "\n",
    "# 定义假设函数\n",
    "def f(x):  #模型\n",
    "    return theta0 + theta1 * x\n",
    "\n",
    "\n",
    "# 定义误差函数\n",
    "def E(x, y):\n",
    "    return 0.5 * np.sum((y - f(x)) ** 2)\n",
    "\n",
    "\n",
    "# 学习率\n",
    "ETA = 1e-3\n",
    "diff = 1\n",
    "count = 0\n",
    "\n",
    "\n",
    "error = E(z, y)\n",
    "while diff > 1e-2:\n",
    "    f_z = f(z)  # 计算一次f(z)\n",
    "    residuals = f_z - y  # 计算残差\n",
    "    grad0 = np.sum(residuals)\n",
    "    grad1 = np.sum(residuals * z)\n",
    "\n",
    "    theta0 -= ETA * grad0\n",
    "    theta1 -= ETA * grad1\n",
    "\n",
    "    current_error = E(z, y)\n",
    "    diff = error - current_error\n",
    "    error = current_error\n",
    "    count += 1\n",
    "    print(f\"第{count}次更新:theta0={theta0:.3f},theta1={theta1:.3f},差值={diff:.4f}\")\n",
    "\n",
    "# 默认预测值\n",
    "value = 300.0\n",
    "v = standardize(value)\n",
    "prediction = f(v)\n",
    "print(f\"您广告效果预测值: {prediction:.3f}\")\n",
    "\n",
    "# 绘图\n",
    "x_vals = np.linspace(-3, 3, 1000)\n",
    "plt.plot(z, y, 'ro')\n",
    "plt.plot(x_vals, f(x_vals), 'g-')\n",
    "plt.plot(v, prediction, 'bo')  # 绘制预测点，蓝色圆点\n",
    "\n",
    "plt.show()\n",
    "\n"
   ],
   "id": "5e2826545977b1fd",
   "outputs": [
    {
     "name": "stdout",
     "output_type": "stream",
     "text": [
      "第1次更新:theta0=9.165,theta1=2.103,差值=82011.1340\n",
      "第2次更新:theta0=17.872,theta1=4.004,差值=78602.8333\n",
      "第3次更新:theta0=26.397,theta1=5.866,差值=75336.1782\n",
      "第4次更新:theta0=34.743,theta1=7.688,差值=72205.2819\n",
      "第5次更新:theta0=42.913,theta1=9.473,差值=69204.5026\n",
      "第6次更新:theta0=50.912,theta1=11.219,差值=66328.4327\n",
      "第7次更新:theta0=58.743,theta1=12.929,差值=63571.8894\n",
      "第8次更新:theta0=66.409,theta1=14.603,差值=60929.9052\n",
      "第9次更新:theta0=73.914,theta1=16.242,差值=58397.7193\n",
      "第10次更新:theta0=81.262,theta1=17.847,差值=55970.7685\n",
      "第11次更新:theta0=88.456,theta1=19.418,差值=53644.6793\n",
      "第12次更新:theta0=95.498,theta1=20.956,差值=51415.2601\n",
      "第13次更新:theta0=102.393,theta1=22.461,差值=49278.4933\n",
      "第14次更新:theta0=109.142,theta1=23.935,差值=47230.5284\n",
      "第15次更新:theta0=115.750,theta1=25.378,差值=45267.6748\n",
      "第16次更新:theta0=122.220,theta1=26.791,差值=43386.3956\n",
      "第17次更新:theta0=128.553,theta1=28.174,差值=41583.3003\n",
      "第18次更新:theta0=134.753,theta1=29.528,差值=39855.1400\n",
      "第19次更新:theta0=140.824,theta1=30.853,差值=38198.8002\n",
      "第20次更新:theta0=146.766,theta1=32.151,差值=36611.2963\n",
      "第21次更新:theta0=152.584,theta1=33.422,差值=35089.7674\n",
      "第22次更新:theta0=158.280,theta1=34.665,差值=33631.4718\n",
      "第23次更新:theta0=163.856,theta1=35.883,差值=32233.7814\n",
      "第24次更新:theta0=169.315,theta1=37.075,差值=30894.1777\n",
      "第25次更新:theta0=174.659,theta1=38.242,差值=29610.2466\n",
      "第26次更新:theta0=179.892,theta1=39.385,差值=28379.6743\n",
      "第27次更新:theta0=185.014,theta1=40.503,差值=27200.2434\n",
      "第28次更新:theta0=190.029,theta1=41.598,差值=26069.8285\n",
      "第29次更新:theta0=194.938,theta1=42.671,差值=24986.3925\n",
      "第30次更新:theta0=199.744,theta1=43.720,差值=23947.9830\n",
      "第31次更新:theta0=204.450,theta1=44.748,差值=22952.7288\n",
      "第32次更新:theta0=209.056,theta1=45.754,差值=21998.8364\n",
      "第33次更新:theta0=213.566,theta1=46.738,差值=21084.5867\n",
      "第34次更新:theta0=217.981,theta1=47.702,差值=20208.3324\n",
      "第35次更新:theta0=222.304,theta1=48.646,差值=19368.4943\n",
      "第36次更新:theta0=226.535,theta1=49.570,差值=18563.5590\n",
      "第37次更新:theta0=230.678,theta1=50.475,差值=17792.0761\n",
      "第38次更新:theta0=234.734,theta1=51.361,差值=17052.6552\n",
      "第39次更新:theta0=238.704,theta1=52.228,差值=16343.9639\n",
      "第40次更新:theta0=242.592,theta1=53.077,差值=15664.7251\n",
      "第41次更新:theta0=246.397,theta1=53.908,差值=15013.7148\n",
      "第42次更新:theta0=250.123,theta1=54.721,差值=14389.7598\n",
      "第43次更新:theta0=253.770,theta1=55.518,差值=13791.7358\n",
      "第44次更新:theta0=257.341,theta1=56.298,差值=13218.5650\n",
      "第45次更新:theta0=260.837,theta1=57.061,差值=12669.2147\n",
      "第46次更新:theta0=264.259,theta1=57.808,差值=12142.6948\n",
      "第47次更新:theta0=267.610,theta1=58.540,差值=11638.0566\n",
      "第48次更新:theta0=270.890,theta1=59.256,差值=11154.3906\n",
      "第49次更新:theta0=274.101,theta1=59.957,差值=10690.8252\n",
      "第50次更新:theta0=277.245,theta1=60.644,差值=10246.5252\n",
      "第51次更新:theta0=280.323,theta1=61.316,差值=9820.6899\n",
      "第52次更新:theta0=283.336,theta1=61.974,差值=9412.5518\n",
      "第53次更新:theta0=286.286,theta1=62.618,差值=9021.3756\n",
      "第54次更新:theta0=289.174,theta1=63.249,差值=8646.4563\n",
      "第55次更新:theta0=292.002,theta1=63.866,差值=8287.1182\n",
      "第56次更新:theta0=294.770,theta1=64.471,差值=7942.7138\n",
      "第57次更新:theta0=297.479,theta1=65.063,差值=7612.6226\n",
      "第58次更新:theta0=300.132,theta1=65.642,差值=7296.2496\n",
      "第59次更新:theta0=302.730,theta1=66.209,差值=6993.0248\n",
      "第60次更新:theta0=305.272,theta1=66.764,差值=6702.4017\n",
      "第61次更新:theta0=307.761,theta1=67.308,差值=6423.8565\n",
      "第62次更新:theta0=310.198,theta1=67.840,差值=6156.8875\n",
      "第63次更新:theta0=312.584,theta1=68.361,差值=5901.0134\n",
      "第64次更新:theta0=314.920,theta1=68.871,差值=5655.7732\n",
      "第65次更新:theta0=317.207,theta1=69.370,差值=5420.7249\n",
      "第66次更新:theta0=319.445,theta1=69.859,差值=5195.4450\n",
      "第67次更新:theta0=321.637,theta1=70.338,差值=4979.5275\n",
      "第68次更新:theta0=323.783,theta1=70.806,差值=4772.5833\n",
      "第69次更新:theta0=325.883,theta1=71.265,差值=4574.2395\n",
      "第70次更新:theta0=327.940,theta1=71.714,差值=4384.1387\n",
      "第71次更新:theta0=329.953,theta1=72.154,差值=4201.9383\n",
      "第72次更新:theta0=331.924,theta1=72.584,差值=4027.3099\n",
      "第73次更新:theta0=333.854,theta1=73.006,差值=3859.9390\n",
      "第74次更新:theta0=335.743,theta1=73.418,差值=3699.5238\n",
      "第75次更新:theta0=337.592,theta1=73.822,差值=3545.7752\n",
      "第76次更新:theta0=339.403,theta1=74.217,差值=3398.4164\n",
      "第77次更新:theta0=341.175,theta1=74.604,差值=3257.1816\n",
      "第78次更新:theta0=342.910,theta1=74.983,差值=3121.8164\n",
      "第79次更新:theta0=344.609,theta1=75.354,差值=2992.0768\n",
      "第80次更新:theta0=346.273,theta1=75.718,差值=2867.7291\n",
      "第81次更新:theta0=347.901,theta1=76.073,差值=2748.5491\n",
      "第82次更新:theta0=349.495,theta1=76.421,差值=2634.3222\n",
      "第83次更新:theta0=351.055,theta1=76.762,差值=2524.8424\n",
      "第84次更新:theta0=352.583,theta1=77.096,差值=2419.9125\n",
      "第85次更新:theta0=354.079,theta1=77.422,差值=2319.3433\n",
      "第86次更新:theta0=355.543,theta1=77.742,差值=2222.9537\n",
      "第87次更新:theta0=356.977,theta1=78.055,差值=2130.5700\n",
      "第88次更新:theta0=358.380,theta1=78.362,差值=2042.0256\n",
      "第89次更新:theta0=359.754,theta1=78.662,差值=1957.1611\n",
      "第90次更新:theta0=361.100,theta1=78.955,差值=1875.8234\n",
      "第91次更新:theta0=362.417,theta1=79.243,差值=1797.8661\n",
      "第92次更新:theta0=363.706,theta1=79.525,差值=1723.1486\n",
      "第93次更新:theta0=364.968,theta1=79.800,差值=1651.5362\n",
      "第94次更新:theta0=366.204,theta1=80.070,差值=1582.9000\n",
      "第95次更新:theta0=367.413,theta1=80.334,差值=1517.1163\n",
      "第96次更新:theta0=368.598,theta1=80.593,差值=1454.0665\n",
      "第97次更新:theta0=369.757,theta1=80.846,差值=1393.6369\n",
      "第98次更新:theta0=370.892,theta1=81.094,差值=1335.7188\n",
      "第99次更新:theta0=372.004,theta1=81.337,差值=1280.2076\n",
      "第100次更新:theta0=373.091,theta1=81.574,差值=1227.0035\n",
      "第101次更新:theta0=374.157,theta1=81.807,差值=1176.0104\n",
      "第102次更新:theta0=375.199,theta1=82.034,差值=1127.1366\n",
      "第103次更新:theta0=376.220,theta1=82.257,差值=1080.2940\n",
      "第104次更新:theta0=377.219,theta1=82.476,差值=1035.3980\n",
      "第105次更新:theta0=378.198,theta1=82.689,差值=992.3679\n",
      "第106次更新:theta0=379.156,theta1=82.898,差值=951.1261\n",
      "第107次更新:theta0=380.093,theta1=83.103,差值=911.5982\n",
      "第108次更新:theta0=381.011,theta1=83.304,差值=873.7131\n",
      "第109次更新:theta0=381.910,theta1=83.500,差值=837.4025\n",
      "第110次更新:theta0=382.790,theta1=83.692,差值=802.6009\n",
      "第111次更新:theta0=383.651,theta1=83.880,差值=769.2456\n",
      "第112次更新:theta0=384.495,theta1=84.064,差值=737.2765\n",
      "第113次更新:theta0=385.320,theta1=84.245,差值=706.6360\n",
      "第114次更新:theta0=386.129,theta1=84.421,差值=677.2689\n",
      "第115次更新:theta0=386.920,theta1=84.594,差值=649.1223\n",
      "第116次更新:theta0=387.695,theta1=84.763,差值=622.1455\n",
      "第117次更新:theta0=388.453,theta1=84.929,差值=596.2897\n",
      "第118次更新:theta0=389.196,theta1=85.091,差值=571.5085\n",
      "第119次更新:theta0=389.922,theta1=85.249,差值=547.7572\n",
      "第120次更新:theta0=390.634,theta1=85.405,差值=524.9929\n",
      "第121次更新:theta0=391.331,theta1=85.557,差值=503.1748\n",
      "第122次更新:theta0=392.013,theta1=85.706,差值=482.2633\n",
      "第123次更新:theta0=392.681,theta1=85.852,差值=462.2209\n",
      "第124次更新:theta0=393.334,theta1=85.995,差值=443.0115\n",
      "第125次更新:theta0=393.974,theta1=86.134,差值=424.6004\n",
      "第126次更新:theta0=394.601,theta1=86.271,差值=406.9544\n",
      "第127次更新:theta0=395.214,theta1=86.405,差值=390.0418\n",
      "第128次更新:theta0=395.815,theta1=86.536,差值=373.8321\n",
      "第129次更新:theta0=396.403,theta1=86.665,差值=358.2960\n",
      "第130次更新:theta0=396.978,theta1=86.790,差值=343.4055\n",
      "第131次更新:theta0=397.542,theta1=86.913,差值=329.1340\n",
      "第132次更新:theta0=398.093,theta1=87.034,差值=315.4555\n",
      "第133次更新:theta0=398.633,theta1=87.152,差值=302.3455\n",
      "第134次更新:theta0=399.162,theta1=87.267,差值=289.7803\n",
      "第135次更新:theta0=399.680,theta1=87.380,差值=277.7373\n",
      "第136次更新:theta0=400.186,theta1=87.491,差值=266.1948\n",
      "第137次更新:theta0=400.682,theta1=87.599,差值=255.1320\n",
      "第138次更新:theta0=401.168,theta1=87.705,差值=244.5290\n",
      "第139次更新:theta0=401.643,theta1=87.809,差值=234.3666\n",
      "第140次更新:theta0=402.109,theta1=87.911,差值=224.6266\n",
      "第141次更新:theta0=402.565,theta1=88.010,差值=215.2913\n",
      "第142次更新:theta0=403.011,theta1=88.108,差值=206.3440\n",
      "第143次更新:theta0=403.448,theta1=88.203,差值=197.7686\n",
      "第144次更新:theta0=403.875,theta1=88.296,差值=189.5495\n",
      "第145次更新:theta0=404.294,theta1=88.388,差值=181.6720\n",
      "第146次更新:theta0=404.704,theta1=88.477,差值=174.1219\n",
      "第147次更新:theta0=405.105,theta1=88.565,差值=166.8856\n",
      "第148次更新:theta0=405.498,theta1=88.651,差值=159.9500\n",
      "第149次更新:theta0=405.882,theta1=88.735,差值=153.3026\n",
      "第150次更新:theta0=406.259,theta1=88.817,差值=146.9315\n",
      "第151次更新:theta0=406.627,theta1=88.897,差值=140.8252\n",
      "第152次更新:theta0=406.988,theta1=88.976,差值=134.9726\n",
      "第153次更新:theta0=407.341,theta1=89.053,差值=129.3633\n",
      "第154次更新:theta0=407.687,theta1=89.129,差值=123.9871\n",
      "第155次更新:theta0=408.026,theta1=89.203,差值=118.8343\n",
      "第156次更新:theta0=408.357,theta1=89.275,差值=113.8957\n",
      "第157次更新:theta0=408.682,theta1=89.346,差值=109.1623\n",
      "第158次更新:theta0=408.999,theta1=89.415,差值=104.6256\n",
      "第159次更新:theta0=409.310,theta1=89.483,差值=100.2775\n",
      "第160次更新:theta0=409.615,theta1=89.550,差值=96.1101\n",
      "第161次更新:theta0=409.913,theta1=89.615,差值=92.1158\n",
      "第162次更新:theta0=410.205,theta1=89.679,差值=88.2876\n",
      "第163次更新:theta0=410.490,theta1=89.741,差值=84.6184\n",
      "第164次更新:theta0=410.770,theta1=89.802,差值=81.1018\n",
      "第165次更新:theta0=411.044,theta1=89.862,差值=77.7313\n",
      "第166次更新:theta0=411.312,theta1=89.920,差值=74.5008\n",
      "第167次更新:theta0=411.575,theta1=89.978,差值=71.4047\n",
      "第168次更新:theta0=411.831,theta1=90.034,差值=68.4371\n",
      "第169次更新:theta0=412.083,theta1=90.089,差值=65.5930\n",
      "第170次更新:theta0=412.329,theta1=90.142,差值=62.8670\n",
      "第171次更新:theta0=412.570,theta1=90.195,差值=60.2543\n",
      "第172次更新:theta0=412.806,theta1=90.247,差值=57.7502\n",
      "第173次更新:theta0=413.037,theta1=90.297,差值=55.3501\n",
      "第174次更新:theta0=413.264,theta1=90.347,差值=53.0499\n",
      "第175次更新:theta0=413.485,theta1=90.395,差值=50.8452\n",
      "第176次更新:theta0=413.702,theta1=90.442,差值=48.7321\n",
      "第177次更新:theta0=413.914,theta1=90.489,差值=46.7068\n",
      "第178次更新:theta0=414.122,theta1=90.534,差值=44.7657\n",
      "第179次更新:theta0=414.325,theta1=90.578,差值=42.9053\n",
      "第180次更新:theta0=414.525,theta1=90.622,差值=41.1222\n",
      "第181次更新:theta0=414.720,theta1=90.664,差值=39.4132\n",
      "第182次更新:theta0=414.910,theta1=90.706,差值=37.7752\n",
      "第183次更新:theta0=415.097,theta1=90.747,差值=36.2053\n",
      "第184次更新:theta0=415.280,theta1=90.787,差值=34.7007\n",
      "第185次更新:theta0=415.459,theta1=90.826,差值=33.2586\n",
      "第186次更新:theta0=415.635,theta1=90.864,差值=31.8764\n",
      "第187次更新:theta0=415.806,theta1=90.902,差值=30.5516\n",
      "第188次更新:theta0=415.975,theta1=90.939,差值=29.2819\n",
      "第189次更新:theta0=416.139,theta1=90.974,差值=28.0650\n",
      "第190次更新:theta0=416.300,theta1=91.010,差值=26.8986\n",
      "第191次更新:theta0=416.458,theta1=91.044,差值=25.7808\n",
      "第192次更新:theta0=416.612,theta1=91.078,差值=24.7093\n",
      "第193次更新:theta0=416.763,theta1=91.111,差值=23.6824\n",
      "第194次更新:theta0=416.911,theta1=91.143,差值=22.6982\n",
      "第195次更新:theta0=417.056,theta1=91.175,差值=21.7549\n",
      "第196次更新:theta0=417.198,theta1=91.206,差值=20.8508\n",
      "第197次更新:theta0=417.337,theta1=91.236,差值=19.9843\n",
      "第198次更新:theta0=417.473,theta1=91.266,差值=19.1537\n",
      "第199次更新:theta0=417.606,theta1=91.295,差值=18.3577\n",
      "第200次更新:theta0=417.736,theta1=91.323,差值=17.5948\n",
      "第201次更新:theta0=417.864,theta1=91.351,差值=16.8636\n",
      "第202次更新:theta0=417.989,theta1=91.378,差值=16.1627\n",
      "第203次更新:theta0=418.111,theta1=91.405,差值=15.4910\n",
      "第204次更新:theta0=418.230,theta1=91.431,差值=14.8472\n",
      "第205次更新:theta0=418.348,theta1=91.457,差值=14.2302\n",
      "第206次更新:theta0=418.462,theta1=91.482,差值=13.6388\n",
      "第207次更新:theta0=418.575,theta1=91.506,差值=13.0720\n",
      "第208次更新:theta0=418.685,theta1=91.530,差值=12.5287\n",
      "第209次更新:theta0=418.792,theta1=91.554,差值=12.0081\n",
      "第210次更新:theta0=418.898,theta1=91.577,差值=11.5090\n",
      "第211次更新:theta0=419.001,theta1=91.599,差值=11.0307\n",
      "第212次更新:theta0=419.102,theta1=91.621,差值=10.5723\n",
      "第213次更新:theta0=419.201,theta1=91.643,差值=10.1329\n",
      "第214次更新:theta0=419.297,theta1=91.664,差值=9.7118\n",
      "第215次更新:theta0=419.392,theta1=91.685,差值=9.3082\n",
      "第216次更新:theta0=419.485,theta1=91.705,差值=8.9213\n",
      "第217次更新:theta0=419.576,theta1=91.725,差值=8.5506\n",
      "第218次更新:theta0=419.665,theta1=91.744,差值=8.1952\n",
      "第219次更新:theta0=419.752,theta1=91.763,差值=7.8546\n",
      "第220次更新:theta0=419.837,theta1=91.782,差值=7.5282\n",
      "第221次更新:theta0=419.920,theta1=91.800,差值=7.2153\n",
      "第222次更新:theta0=420.002,theta1=91.818,差值=6.9155\n",
      "第223次更新:theta0=420.082,theta1=91.835,差值=6.6281\n",
      "第224次更新:theta0=420.160,theta1=91.853,差值=6.3526\n",
      "第225次更新:theta0=420.237,theta1=91.869,差值=6.0886\n",
      "第226次更新:theta0=420.312,theta1=91.886,差值=5.8356\n",
      "第227次更新:theta0=420.385,theta1=91.902,差值=5.5931\n",
      "第228次更新:theta0=420.457,theta1=91.917,差值=5.3606\n",
      "第229次更新:theta0=420.528,theta1=91.933,差值=5.1378\n",
      "第230次更新:theta0=420.597,theta1=91.948,差值=4.9243\n",
      "第231次更新:theta0=420.664,theta1=91.963,差值=4.7197\n",
      "第232次更新:theta0=420.730,theta1=91.977,差值=4.5235\n",
      "第233次更新:theta0=420.795,theta1=91.991,差值=4.3355\n",
      "第234次更新:theta0=420.858,theta1=92.005,差值=4.1553\n",
      "第235次更新:theta0=420.920,theta1=92.018,差值=3.9827\n",
      "第236次更新:theta0=420.981,theta1=92.032,差值=3.8171\n",
      "第237次更新:theta0=421.040,theta1=92.045,差值=3.6585\n",
      "第238次更新:theta0=421.098,theta1=92.057,差值=3.5065\n",
      "第239次更新:theta0=421.155,theta1=92.070,差值=3.3607\n",
      "第240次更新:theta0=421.211,theta1=92.082,差值=3.2211\n",
      "第241次更新:theta0=421.265,theta1=92.094,差值=3.0872\n",
      "第242次更新:theta0=421.319,theta1=92.106,差值=2.9589\n",
      "第243次更新:theta0=421.371,theta1=92.117,差值=2.8359\n",
      "第244次更新:theta0=421.422,theta1=92.128,差值=2.7181\n",
      "第245次更新:theta0=421.473,theta1=92.139,差值=2.6051\n",
      "第246次更新:theta0=421.522,theta1=92.150,差值=2.4968\n",
      "第247次更新:theta0=421.570,theta1=92.160,差值=2.3931\n",
      "第248次更新:theta0=421.617,theta1=92.171,差值=2.2936\n",
      "第249次更新:theta0=421.663,theta1=92.181,差值=2.1983\n",
      "第250次更新:theta0=421.708,theta1=92.191,差值=2.1069\n",
      "第251次更新:theta0=421.752,theta1=92.200,差值=2.0194\n",
      "第252次更新:theta0=421.795,theta1=92.210,差值=1.9355\n",
      "第253次更新:theta0=421.837,theta1=92.219,差值=1.8550\n",
      "第254次更新:theta0=421.879,theta1=92.228,差值=1.7779\n",
      "第255次更新:theta0=421.919,theta1=92.237,差值=1.7040\n",
      "第256次更新:theta0=421.959,theta1=92.245,差值=1.6332\n",
      "第257次更新:theta0=421.998,theta1=92.254,差值=1.5653\n",
      "第258次更新:theta0=422.036,theta1=92.262,差值=1.5003\n",
      "第259次更新:theta0=422.073,theta1=92.270,差值=1.4379\n",
      "第260次更新:theta0=422.110,theta1=92.278,差值=1.3782\n",
      "第261次更新:theta0=422.145,theta1=92.286,差值=1.3209\n",
      "第262次更新:theta0=422.180,theta1=92.294,差值=1.2660\n",
      "第263次更新:theta0=422.215,theta1=92.301,差值=1.2134\n",
      "第264次更新:theta0=422.248,theta1=92.308,差值=1.1630\n",
      "第265次更新:theta0=422.281,theta1=92.316,差值=1.1146\n",
      "第266次更新:theta0=422.313,theta1=92.323,差值=1.0683\n",
      "第267次更新:theta0=422.344,theta1=92.330,差值=1.0239\n",
      "第268次更新:theta0=422.375,theta1=92.336,差值=0.9814\n",
      "第269次更新:theta0=422.405,theta1=92.343,差值=0.9406\n",
      "第270次更新:theta0=422.435,theta1=92.349,差值=0.9015\n",
      "第271次更新:theta0=422.464,theta1=92.356,差值=0.8640\n",
      "第272次更新:theta0=422.492,theta1=92.362,差值=0.8281\n",
      "第273次更新:theta0=422.520,theta1=92.368,差值=0.7937\n",
      "第274次更新:theta0=422.547,theta1=92.374,差值=0.7607\n",
      "第275次更新:theta0=422.573,theta1=92.379,差值=0.7291\n",
      "第276次更新:theta0=422.599,theta1=92.385,差值=0.6988\n",
      "第277次更新:theta0=422.625,theta1=92.391,差值=0.6698\n",
      "第278次更新:theta0=422.649,theta1=92.396,差值=0.6419\n",
      "第279次更新:theta0=422.674,theta1=92.401,差值=0.6152\n",
      "第280次更新:theta0=422.698,theta1=92.407,差值=0.5897\n",
      "第281次更新:theta0=422.721,theta1=92.412,差值=0.5652\n",
      "第282次更新:theta0=422.744,theta1=92.417,差值=0.5417\n",
      "第283次更新:theta0=422.766,theta1=92.422,差值=0.5192\n",
      "第284次更新:theta0=422.788,theta1=92.426,差值=0.4976\n",
      "第285次更新:theta0=422.810,theta1=92.431,差值=0.4769\n",
      "第286次更新:theta0=422.831,theta1=92.436,差值=0.4571\n",
      "第287次更新:theta0=422.851,theta1=92.440,差值=0.4381\n",
      "第288次更新:theta0=422.871,theta1=92.445,差值=0.4199\n",
      "第289次更新:theta0=422.891,theta1=92.449,差值=0.4024\n",
      "第290次更新:theta0=422.910,theta1=92.453,差值=0.3857\n",
      "第291次更新:theta0=422.929,theta1=92.457,差值=0.3697\n",
      "第292次更新:theta0=422.948,theta1=92.461,差值=0.3543\n",
      "第293次更新:theta0=422.966,theta1=92.465,差值=0.3396\n",
      "第294次更新:theta0=422.983,theta1=92.469,差值=0.3255\n",
      "第295次更新:theta0=423.001,theta1=92.473,差值=0.3120\n",
      "第296次更新:theta0=423.018,theta1=92.477,差值=0.2990\n",
      "第297次更新:theta0=423.034,theta1=92.480,差值=0.2866\n",
      "第298次更新:theta0=423.051,theta1=92.484,差值=0.2747\n",
      "第299次更新:theta0=423.067,theta1=92.487,差值=0.2632\n",
      "第300次更新:theta0=423.082,theta1=92.491,差值=0.2523\n",
      "第301次更新:theta0=423.098,theta1=92.494,差值=0.2418\n",
      "第302次更新:theta0=423.112,theta1=92.497,差值=0.2318\n",
      "第303次更新:theta0=423.127,theta1=92.500,差值=0.2221\n",
      "第304次更新:theta0=423.141,theta1=92.504,差值=0.2129\n",
      "第305次更新:theta0=423.155,theta1=92.507,差值=0.2041\n",
      "第306次更新:theta0=423.169,theta1=92.510,差值=0.1956\n",
      "第307次更新:theta0=423.183,theta1=92.513,差值=0.1874\n",
      "第308次更新:theta0=423.196,theta1=92.515,差值=0.1797\n",
      "第309次更新:theta0=423.209,theta1=92.518,差值=0.1722\n",
      "第310次更新:theta0=423.221,theta1=92.521,差值=0.1650\n",
      "第311次更新:theta0=423.234,theta1=92.524,差值=0.1582\n",
      "第312次更新:theta0=423.246,theta1=92.526,差值=0.1516\n",
      "第313次更新:theta0=423.258,theta1=92.529,差值=0.1453\n",
      "第314次更新:theta0=423.269,theta1=92.531,差值=0.1393\n",
      "第315次更新:theta0=423.281,theta1=92.534,差值=0.1335\n",
      "第316次更新:theta0=423.292,theta1=92.536,差值=0.1279\n",
      "第317次更新:theta0=423.303,theta1=92.539,差值=0.1226\n",
      "第318次更新:theta0=423.313,theta1=92.541,差值=0.1175\n",
      "第319次更新:theta0=423.324,theta1=92.543,差值=0.1126\n",
      "第320次更新:theta0=423.334,theta1=92.546,差值=0.1080\n",
      "第321次更新:theta0=423.344,theta1=92.548,差值=0.1035\n",
      "第322次更新:theta0=423.354,theta1=92.550,差值=0.0992\n",
      "第323次更新:theta0=423.363,theta1=92.552,差值=0.0950\n",
      "第324次更新:theta0=423.373,theta1=92.554,差值=0.0911\n",
      "第325次更新:theta0=423.382,theta1=92.556,差值=0.0873\n",
      "第326次更新:theta0=423.391,theta1=92.558,差值=0.0837\n",
      "第327次更新:theta0=423.399,theta1=92.560,差值=0.0802\n",
      "第328次更新:theta0=423.408,theta1=92.562,差值=0.0769\n",
      "第329次更新:theta0=423.417,theta1=92.564,差值=0.0737\n",
      "第330次更新:theta0=423.425,theta1=92.565,差值=0.0706\n",
      "第331次更新:theta0=423.433,theta1=92.567,差值=0.0677\n",
      "第332次更新:theta0=423.441,theta1=92.569,差值=0.0649\n",
      "第333次更新:theta0=423.449,theta1=92.571,差值=0.0622\n",
      "第334次更新:theta0=423.456,theta1=92.572,差值=0.0596\n",
      "第335次更新:theta0=423.464,theta1=92.574,差值=0.0571\n",
      "第336次更新:theta0=423.471,theta1=92.575,差值=0.0547\n",
      "第337次更新:theta0=423.478,theta1=92.577,差值=0.0525\n",
      "第338次更新:theta0=423.485,theta1=92.579,差值=0.0503\n",
      "第339次更新:theta0=423.492,theta1=92.580,差值=0.0482\n",
      "第340次更新:theta0=423.498,theta1=92.581,差值=0.0462\n",
      "第341次更新:theta0=423.505,theta1=92.583,差值=0.0443\n",
      "第342次更新:theta0=423.511,theta1=92.584,差值=0.0424\n",
      "第343次更新:theta0=423.518,theta1=92.586,差值=0.0407\n",
      "第344次更新:theta0=423.524,theta1=92.587,差值=0.0390\n",
      "第345次更新:theta0=423.530,theta1=92.588,差值=0.0374\n",
      "第346次更新:theta0=423.536,theta1=92.590,差值=0.0358\n",
      "第347次更新:theta0=423.541,theta1=92.591,差值=0.0343\n",
      "第348次更新:theta0=423.547,theta1=92.592,差值=0.0329\n",
      "第349次更新:theta0=423.552,theta1=92.593,差值=0.0315\n",
      "第350次更新:theta0=423.558,theta1=92.594,差值=0.0302\n",
      "第351次更新:theta0=423.563,theta1=92.596,差值=0.0290\n",
      "第352次更新:theta0=423.568,theta1=92.597,差值=0.0278\n",
      "第353次更新:theta0=423.573,theta1=92.598,差值=0.0266\n",
      "第354次更新:theta0=423.578,theta1=92.599,差值=0.0255\n",
      "第355次更新:theta0=423.583,theta1=92.600,差值=0.0244\n",
      "第356次更新:theta0=423.588,theta1=92.601,差值=0.0234\n",
      "第357次更新:theta0=423.593,theta1=92.602,差值=0.0224\n",
      "第358次更新:theta0=423.597,theta1=92.603,差值=0.0215\n",
      "第359次更新:theta0=423.602,theta1=92.604,差值=0.0206\n",
      "第360次更新:theta0=423.606,theta1=92.605,差值=0.0198\n",
      "第361次更新:theta0=423.610,theta1=92.606,差值=0.0189\n",
      "第362次更新:theta0=423.614,theta1=92.607,差值=0.0182\n",
      "第363次更新:theta0=423.619,theta1=92.608,差值=0.0174\n",
      "第364次更新:theta0=423.623,theta1=92.609,差值=0.0167\n",
      "第365次更新:theta0=423.626,theta1=92.609,差值=0.0160\n",
      "第366次更新:theta0=423.630,theta1=92.610,差值=0.0153\n",
      "第367次更新:theta0=423.634,theta1=92.611,差值=0.0147\n",
      "第368次更新:theta0=423.638,theta1=92.612,差值=0.0141\n",
      "第369次更新:theta0=423.641,theta1=92.613,差值=0.0135\n",
      "第370次更新:theta0=423.645,theta1=92.613,差值=0.0129\n",
      "第371次更新:theta0=423.648,theta1=92.614,差值=0.0124\n",
      "第372次更新:theta0=423.652,theta1=92.615,差值=0.0119\n",
      "第373次更新:theta0=423.655,theta1=92.616,差值=0.0114\n",
      "第374次更新:theta0=423.658,theta1=92.616,差值=0.0109\n",
      "第375次更新:theta0=423.661,theta1=92.617,差值=0.0105\n",
      "第376次更新:theta0=423.665,theta1=92.618,差值=0.0100\n",
      "第377次更新:theta0=423.668,theta1=92.618,差值=0.0096\n",
      "您广告效果预测值: 643.231\n"
     ]
    },
    {
     "data": {
      "text/plain": [
       "<Figure size 640x480 with 1 Axes>"
      ],
      "image/png": "[encoded data removed]"
     },
     "metadata": {},
     "output_type": "display_data"
    }
   ],
   "execution_count": 140
  },
  {
   "metadata": {},
   "cell_type": "markdown",
   "source": "标准化的目的是使数据具有零均值和单位方差，这有助于加速梯度下降算法的收敛，并且有助于避免数值计算中的问题。",
   "id": "945ee8342d9dadba"
  },
  {
   "metadata": {
    "ExecuteTime": {
     "end_time": "2024-08-05T08:56:20.657064Z",
     "start_time": "2024-08-05T08:56:20.652531Z"
    }
   },
   "cell_type": "code",
   "source": [
    "#初始化多项式参数——以下为多项式回归\n",
    "theta = np.random.rand(3) \n",
    "theta#当一维向量与二维矩阵进行点积时，NumPy会根据矩阵的形状自动确定一维向量的角色（行向量或列向量）。 "
   ],
   "id": "2412dace4b21f140",
   "outputs": [
    {
     "data": {
      "text/plain": [
       "array([0.05754034, 0.53052694, 0.95632555])"
      ]
     },
     "execution_count": 141,
     "metadata": {},
     "output_type": "execute_result"
    }
   ],
   "execution_count": 141
  },
  {
   "metadata": {
    "ExecuteTime": {
     "end_time": "2024-08-05T08:56:20.669595Z",
     "start_time": "2024-08-05T08:56:20.662183Z"
    }
   },
   "cell_type": "code",
   "source": [
    "def to_matrix(x):\n",
    "    return np.vstack([np.ones(x.shape[0]), x, x ** 2]).T#np.ones 创建一个与x长度相同的全是1的数组，vstack就是将三个数组堆在一起 形成二维数组  .T转置是行列互换  堆在一起还不能满足第一列是1111   只是满足了第一行是1111  所以进行转置\n",
    "X = to_matrix(z)\n",
    "X"
   ],
   "id": "3f1cb3e0f70bce45",
   "outputs": [
    {
     "data": {
      "text/plain": [
       "array([[ 1.00000000e+00,  1.42666294e+00,  2.03536715e+00],\n",
       "       [ 1.00000000e+00,  1.15073540e+00,  1.32419197e+00],\n",
       "       [ 1.00000000e+00,  1.63205262e-01,  2.66359574e-02],\n",
       "       [ 1.00000000e+00, -1.47783747e+00,  2.18400360e+00],\n",
       "       [ 1.00000000e+00, -7.51712370e-01,  5.65071487e-01],\n",
       "       [ 1.00000000e+00,  9.76465378e-01,  9.53484635e-01],\n",
       "       [ 1.00000000e+00, -1.40522496e+00,  1.97465720e+00],\n",
       "       [ 1.00000000e+00, -1.27452245e+00,  1.62440746e+00],\n",
       "       [ 1.00000000e+00, -1.62306250e+00,  2.63433186e+00],\n",
       "       [ 1.00000000e+00,  5.26267814e-01,  2.76957812e-01],\n",
       "       [ 1.00000000e+00,  7.87672851e-01,  6.20428521e-01],\n",
       "       [ 1.00000000e+00, -4.01097677e-02,  1.60879346e-03],\n",
       "       [ 1.00000000e+00, -5.48397341e-01,  3.00739643e-01],\n",
       "       [ 1.00000000e+00, -2.86992303e-01,  8.23645821e-02],\n",
       "       [ 1.00000000e+00, -3.59604814e-01,  1.29315622e-01],\n",
       "       [ 1.00000000e+00,  3.66520291e-01,  1.34337124e-01],\n",
       "       [ 1.00000000e+00,  1.96399552e+00,  3.85727840e+00],\n",
       "       [ 1.00000000e+00,  3.22952784e-01,  1.04298501e-01],\n",
       "       [ 1.00000000e+00,  3.22952784e-01,  1.04298501e-01],\n",
       "       [ 1.00000000e+00, -1.12929742e+00,  1.27531267e+00],\n",
       "       [ 1.00000000e+00,  8.89330366e-01,  7.90908500e-01]])"
      ]
     },
     "execution_count": 142,
     "metadata": {},
     "output_type": "execute_result"
    }
   ],
   "execution_count": 142
  },
  {
   "metadata": {
    "ExecuteTime": {
     "end_time": "2024-08-05T08:56:20.677396Z",
     "start_time": "2024-08-05T08:56:20.670600Z"
    }
   },
   "cell_type": "code",
   "source": "theta",
   "id": "3e6095b99a365ae5",
   "outputs": [
    {
     "data": {
      "text/plain": [
       "array([0.05754034, 0.53052694, 0.95632555])"
      ]
     },
     "execution_count": 143,
     "metadata": {},
     "output_type": "execute_result"
    }
   ],
   "execution_count": 143
  },
  {
   "metadata": {
    "ExecuteTime": {
     "end_time": "2024-08-05T08:56:20.686734Z",
     "start_time": "2024-08-05T08:56:20.678400Z"
    }
   },
   "cell_type": "code",
   "source": [
    "def f(x):\n",
    "    return np.dot(x, theta)\n",
    "\n",
    "diff=1\n",
    "x"
   ],
   "id": "c7fd0c866b79b56",
   "outputs": [
    {
     "data": {
      "text/plain": [
       "array([235., 216., 148.,  35.,  85., 204.,  40.,  49.,  25., 173., 191.,\n",
       "       134.,  99., 117., 112., 162., 272., 159., 159.,  59., 198.])"
      ]
     },
     "execution_count": 144,
     "metadata": {},
     "output_type": "execute_result"
    }
   ],
   "execution_count": 144
  },
  {
   "metadata": {
    "ExecuteTime": {
     "end_time": "2024-08-05T08:56:20.763125Z",
     "start_time": "2024-08-05T08:56:20.687739Z"
    }
   },
   "cell_type": "code",
   "source": [
    "\n",
    "error = E(X, y)  # 计算初始误差值\n",
    "while diff > 1e-2:  # 当误差差值大于0.01时，继续迭代\n",
    "    # 计算梯度\n",
    "    grad = ETA * np.dot(f(X) - y, X)\n",
    "    # 更新参数\n",
    "    theta = theta - grad\n",
    "    # 计算新的误差值\n",
    "    current_error = E(X, y)\n",
    "    diff = error - current_error  # 更新两次前后误差值,为了判断是否停止\n",
    "    error = current_error  # 更新误差值\n",
    "x=np.linspace(-3, 3, 100)  \n",
    "plt.plot(z, y, 'go')\n",
    "plt.plot(x, f(to_matrix(x)))#x值带入 生成一直线 至于数据点 上文已经画过了\n",
    "plt.show()\n"
   ],
   "id": "4292f8d2d8c98a51",
   "outputs": [
    {
     "data": {
      "text/plain": [
       "<Figure size 640x480 with 1 Axes>"
      ],
      "image/png": "[encoded data removed]"
     },
     "metadata": {},
     "output_type": "display_data"
    }
   ],
   "execution_count": 145
  },
  {
   "metadata": {
    "ExecuteTime": {
     "end_time": "2024-08-05T08:56:20.768003Z",
     "start_time": "2024-08-05T08:56:20.764129Z"
    }
   },
   "cell_type": "code",
   "source": [
    "# 均方误差\n",
    "def MSE(x, y):\n",
    "    return (1/x.shape[0]) * np.sum((y - f(x)) ** 2)\n",
    "theta = np.random.rand(3)\n",
    "errors=[]\n",
    "diff=1\n",
    "errors.append(MSE(X,y))"
   ],
   "id": "b9477023626c390f",
   "outputs": [],
   "execution_count": 146
  },
  {
   "metadata": {
    "ExecuteTime": {
     "end_time": "2024-08-05T08:56:20.873018Z",
     "start_time": "2024-08-05T08:56:20.769783Z"
    }
   },
   "cell_type": "code",
   "source": [
    "while diff > 1e-2: \n",
    "    grad = ETA * np.dot(f(X) - y, X)\n",
    "    theta = theta - grad\n",
    "    errors.append(MSE(X,y))\n",
    "    diff=errors[-2]-errors[-1]\n",
    "x=np.arange(len(errors))\n",
    "plt.plot(x, errors)\n",
    "plt.show()\n"
   ],
   "id": "10a5ce6c35bb0ff8",
   "outputs": [
    {
     "data": {
      "text/plain": [
       "<Figure size 640x480 with 1 Axes>"
      ],
      "image/png": "[encoded data removed]"
     },
     "metadata": {},
     "output_type": "display_data"
    }
   ],
   "execution_count": 147
  },
  {
   "metadata": {},
   "cell_type": "markdown",
   "source": "",
   "id": "d59fa6ea339e075f"
  },
  {
   "metadata": {
    "ExecuteTime": {
     "end_time": "2024-08-05T08:56:20.880798Z",
     "start_time": "2024-08-05T08:56:20.874019Z"
    }
   },
   "cell_type": "code",
   "source": [
    "theta=np.random.rand(3)\n",
    "errors=[]\n",
    "diff=1\n",
    "errors.append(MSE(X,y))\n",
    "X"
   ],
   "id": "e81d2898b0ee953",
   "outputs": [
    {
     "data": {
      "text/plain": [
       "array([[ 1.00000000e+00,  1.42666294e+00,  2.03536715e+00],\n",
       "       [ 1.00000000e+00,  1.15073540e+00,  1.32419197e+00],\n",
       "       [ 1.00000000e+00,  1.63205262e-01,  2.66359574e-02],\n",
       "       [ 1.00000000e+00, -1.47783747e+00,  2.18400360e+00],\n",
       "       [ 1.00000000e+00, -7.51712370e-01,  5.65071487e-01],\n",
       "       [ 1.00000000e+00,  9.76465378e-01,  9.53484635e-01],\n",
       "       [ 1.00000000e+00, -1.40522496e+00,  1.97465720e+00],\n",
       "       [ 1.00000000e+00, -1.27452245e+00,  1.62440746e+00],\n",
       "       [ 1.00000000e+00, -1.62306250e+00,  2.63433186e+00],\n",
       "       [ 1.00000000e+00,  5.26267814e-01,  2.76957812e-01],\n",
       "       [ 1.00000000e+00,  7.87672851e-01,  6.20428521e-01],\n",
       "       [ 1.00000000e+00, -4.01097677e-02,  1.60879346e-03],\n",
       "       [ 1.00000000e+00, -5.48397341e-01,  3.00739643e-01],\n",
       "       [ 1.00000000e+00, -2.86992303e-01,  8.23645821e-02],\n",
       "       [ 1.00000000e+00, -3.59604814e-01,  1.29315622e-01],\n",
       "       [ 1.00000000e+00,  3.66520291e-01,  1.34337124e-01],\n",
       "       [ 1.00000000e+00,  1.96399552e+00,  3.85727840e+00],\n",
       "       [ 1.00000000e+00,  3.22952784e-01,  1.04298501e-01],\n",
       "       [ 1.00000000e+00,  3.22952784e-01,  1.04298501e-01],\n",
       "       [ 1.00000000e+00, -1.12929742e+00,  1.27531267e+00],\n",
       "       [ 1.00000000e+00,  8.89330366e-01,  7.90908500e-01]])"
      ]
     },
     "execution_count": 148,
     "metadata": {},
     "output_type": "execute_result"
    }
   ],
   "execution_count": 148
  },
  {
   "metadata": {},
   "cell_type": "markdown",
   "source": [
    "X[p, :]:\n",
    "\n",
    "X 是一个二维数组，p 是一个包含随机排列索引的数组。\n",
    "X[p, :] 表示对 X 的行进行重新排列，顺序由 p 指定。\n",
    "例如，如果 p = [2, 0, 1]，那么 X[p, :] 将产生一个新数组，其中第 0 行是原数组的第 2 行，第 1 行是原数组的第 0 行，第 2 行是原数组的第 1 行。\n",
    "train_y[p]:\n",
    "\n",
    "train_y 是一个一维数组，p 是一个包含随机排列索引的数组。\n",
    "train_y[p] 表示对 train_y 的元素进行重新排列，顺序由 p 指定。\n",
    "例如，如果 p = [2, 0, 1]，那么 train_y[p] 将产生一个新数组，其中第 0 个元素是原数组的第 2 个元素，第 1 个元素是原数组的第 0 个元素，第 2 个元素是原数组的第 1 个元素。\n",
    "zip(X[p, :], train_y[p]):\n",
    "\n",
    "zip 函数将两个可迭代对象（在这里是 X[p, :] 和 train_y[p]）合并成一个迭代器，迭代器的每个元素是一个元组，元组的第一个元素来自 X[p, :]，第二个元素来自 train_y[p]。\n",
    "for x, y in zip(X[p, :], train_y[p]):\n",
    "\n",
    "这个循环通过 zip 生成的迭代器进行迭代，每次迭代都会将 X[p, :] 的一行赋值给 x，将 train_y[p] 的一个元素赋值给 y。\n",
    "这样，x 和 y 会对应于同一个随机排列索引下的 X 的一行和 train_y 的一个元素。"
   ],
   "id": "2b0c26a9036dd92a"
  },
  {
   "metadata": {
    "ExecuteTime": {
     "end_time": "2024-08-05T08:56:20.993509Z",
     "start_time": "2024-08-05T08:56:20.881803Z"
    }
   },
   "cell_type": "code",
   "source": [
    "while diff>1e-2:\n",
    "    p=np.random.permutation(X.shape[0])  #x可以是一个整数或一个数组。如果是整数，则生成一个从 0 到 x-1 的随机排列。如果是数组，则对数组的元素进行随机排列。p.random.permutation 生成的随机数不会重复。具体来说，第一维打乱 ，行与行之间打乱，不影响行的内部顺序 不是整个数组所有打乱\n",
    "    #X[p, :] 的意思是：从 X 中提取 p 指定的行，并保留所有列。\n",
    "    #p 是一个索引数组，指定了要提取的行的顺序。   不仅指定了要提取哪些行，还指定了顺序\n",
    "    \n",
    "    for x_i, y_i in zip(X[p,:], y[p]):\n",
    "        theta = theta - ETA * (f(x_i) - y_i) * x_i   #x又做训练数据又做循环变量，出错了\n",
    "        \n",
    "    errors.append(MSE(X,y))\n",
    "    diff=errors[-2]-errors[-1]\n",
    "x=np.linspace(-3, 3, 100)\n",
    "plt.plot(z, y, 'go')\n",
    "plt.plot(x, f(to_matrix(x)))\n",
    "plt.show()\n"
   ],
   "id": "b22b76b32c579c5a",
   "outputs": [
    {
     "data": {
      "text/plain": [
       "<Figure size 640x480 with 1 Axes>"
      ],
      "image/png": "[encoded data removed]"
     },
     "metadata": {},
     "output_type": "display_data"
    }
   ],
   "execution_count": 149
  },
  {
   "metadata": {},
   "cell_type": "markdown",
   "source": "",
   "id": "3899c770147fadb2"
  },
  {
   "metadata": {
    "ExecuteTime": {
     "end_time": "2024-08-05T08:56:20.996210Z",
     "start_time": "2024-08-05T08:56:20.994029Z"
    }
   },
   "cell_type": "code",
   "source": "",
   "id": "6cabf939e1af0c97",
   "outputs": [],
   "execution_count": 149
  }
 ],
 "metadata": {
  "kernelspec": {
   "display_name": "Python 3",
   "language": "python",
   "name": "python3"
  },
  "language_info": {
   "codemirror_mode": {
    "name": "ipython",
    "version": 2
   },
   "file_extension": ".py",
   "mimetype": "text/x-python",
   "name": "python",
   "nbconvert_exporter": "python",
   "pygments_lexer": "ipython2",
   "version": "2.7.6"
  }
 },
 "nbformat": 4,
 "nbformat_minor": 5
}
